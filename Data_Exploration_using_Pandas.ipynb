{
  "nbformat": 4,
  "nbformat_minor": 0,
  "metadata": {
    "colab": {
      "name": "Data Exploration using Pandas.ipynb",
      "provenance": [],
      "authorship_tag": "ABX9TyN3XJKB+umRZebsVnE/xQdp",
      "include_colab_link": true
    },
    "kernelspec": {
      "name": "python3",
      "display_name": "Python 3"
    },
    "language_info": {
      "name": "python"
    }
  },
  "cells": [
    {
      "cell_type": "markdown",
      "metadata": {
        "id": "view-in-github",
        "colab_type": "text"
      },
      "source": [
        "<a href=\"https://colab.research.google.com/github/G33kyGuy3/PortfolioProjects/blob/main/Data_Exploration_using_Pandas.ipynb\" target=\"_parent\"><img src=\"https://colab.research.google.com/assets/colab-badge.svg\" alt=\"Open In Colab\"/></a>"
      ]
    },
    {
      "cell_type": "markdown",
      "metadata": {
        "id": "w4ILh-RVJ8ib"
      },
      "source": [
        "This a Portfolio Project using Pandas to explore the Covid-19 data from the World Health Organization"
      ]
    },
    {
      "cell_type": "code",
      "metadata": {
        "id": "f9rdHxZWHL1p"
      },
      "source": [
        "import numpy as np\n",
        "import pandas as pd\n",
        "import os\n",
        "import urllib\n",
        "%matplotlib inline"
      ],
      "execution_count": 1,
      "outputs": []
    },
    {
      "cell_type": "code",
      "metadata": {
        "id": "XT6o-UavInLU"
      },
      "source": [
        "# Creating a folder to store the CSV file for the data\n",
        "url = \"https://covid19.who.int/WHO-COVID-19-global-data.csv\"\n",
        "file_path = os.path.join(\"data\",\"covid\")"
      ],
      "execution_count": 2,
      "outputs": []
    },
    {
      "cell_type": "code",
      "metadata": {
        "colab": {
          "base_uri": "https://localhost:8080/"
        },
        "id": "LSBStAFwI2sS",
        "outputId": "4397a937-f3fb-47dd-8ba0-1dbb6e1a4937"
      },
      "source": [
        "# Downloaded data from url\n",
        "os.makedirs(file_path, exist_ok=True)\n",
        "csv_path = os.path.join(file_path, \"WHO-COVID-19-global-data.csv\")\n",
        "urllib.request.urlretrieve(url,csv_path)"
      ],
      "execution_count": 3,
      "outputs": [
        {
          "output_type": "execute_result",
          "data": {
            "text/plain": [
              "('data/covid/WHO-COVID-19-global-data.csv',\n",
              " <http.client.HTTPMessage at 0x7fc6324ce610>)"
            ]
          },
          "metadata": {
            "tags": []
          },
          "execution_count": 3
        }
      ]
    },
    {
      "cell_type": "code",
      "metadata": {
        "id": "HYmO-D0TJRu1"
      },
      "source": [
        "df = pd.read_csv(csv_path)"
      ],
      "execution_count": 4,
      "outputs": []
    },
    {
      "cell_type": "code",
      "metadata": {
        "colab": {
          "base_uri": "https://localhost:8080/",
          "height": 419
        },
        "id": "B0yPZF2oJYQq",
        "outputId": "dcc1a005-b849-4f1e-91cd-bbab7ece1660"
      },
      "source": [
        "df"
      ],
      "execution_count": 5,
      "outputs": [
        {
          "output_type": "execute_result",
          "data": {
            "text/html": [
              "<div>\n",
              "<style scoped>\n",
              "    .dataframe tbody tr th:only-of-type {\n",
              "        vertical-align: middle;\n",
              "    }\n",
              "\n",
              "    .dataframe tbody tr th {\n",
              "        vertical-align: top;\n",
              "    }\n",
              "\n",
              "    .dataframe thead th {\n",
              "        text-align: right;\n",
              "    }\n",
              "</style>\n",
              "<table border=\"1\" class=\"dataframe\">\n",
              "  <thead>\n",
              "    <tr style=\"text-align: right;\">\n",
              "      <th></th>\n",
              "      <th>Date_reported</th>\n",
              "      <th>Country_code</th>\n",
              "      <th>Country</th>\n",
              "      <th>WHO_region</th>\n",
              "      <th>New_cases</th>\n",
              "      <th>Cumulative_cases</th>\n",
              "      <th>New_deaths</th>\n",
              "      <th>Cumulative_deaths</th>\n",
              "    </tr>\n",
              "  </thead>\n",
              "  <tbody>\n",
              "    <tr>\n",
              "      <th>0</th>\n",
              "      <td>2020-01-03</td>\n",
              "      <td>AF</td>\n",
              "      <td>Afghanistan</td>\n",
              "      <td>EMRO</td>\n",
              "      <td>0</td>\n",
              "      <td>0</td>\n",
              "      <td>0</td>\n",
              "      <td>0</td>\n",
              "    </tr>\n",
              "    <tr>\n",
              "      <th>1</th>\n",
              "      <td>2020-01-04</td>\n",
              "      <td>AF</td>\n",
              "      <td>Afghanistan</td>\n",
              "      <td>EMRO</td>\n",
              "      <td>0</td>\n",
              "      <td>0</td>\n",
              "      <td>0</td>\n",
              "      <td>0</td>\n",
              "    </tr>\n",
              "    <tr>\n",
              "      <th>2</th>\n",
              "      <td>2020-01-05</td>\n",
              "      <td>AF</td>\n",
              "      <td>Afghanistan</td>\n",
              "      <td>EMRO</td>\n",
              "      <td>0</td>\n",
              "      <td>0</td>\n",
              "      <td>0</td>\n",
              "      <td>0</td>\n",
              "    </tr>\n",
              "    <tr>\n",
              "      <th>3</th>\n",
              "      <td>2020-01-06</td>\n",
              "      <td>AF</td>\n",
              "      <td>Afghanistan</td>\n",
              "      <td>EMRO</td>\n",
              "      <td>0</td>\n",
              "      <td>0</td>\n",
              "      <td>0</td>\n",
              "      <td>0</td>\n",
              "    </tr>\n",
              "    <tr>\n",
              "      <th>4</th>\n",
              "      <td>2020-01-07</td>\n",
              "      <td>AF</td>\n",
              "      <td>Afghanistan</td>\n",
              "      <td>EMRO</td>\n",
              "      <td>0</td>\n",
              "      <td>0</td>\n",
              "      <td>0</td>\n",
              "      <td>0</td>\n",
              "    </tr>\n",
              "    <tr>\n",
              "      <th>...</th>\n",
              "      <td>...</td>\n",
              "      <td>...</td>\n",
              "      <td>...</td>\n",
              "      <td>...</td>\n",
              "      <td>...</td>\n",
              "      <td>...</td>\n",
              "      <td>...</td>\n",
              "      <td>...</td>\n",
              "    </tr>\n",
              "    <tr>\n",
              "      <th>124657</th>\n",
              "      <td>2021-06-07</td>\n",
              "      <td>ZW</td>\n",
              "      <td>Zimbabwe</td>\n",
              "      <td>AFRO</td>\n",
              "      <td>21</td>\n",
              "      <td>39189</td>\n",
              "      <td>1</td>\n",
              "      <td>1606</td>\n",
              "    </tr>\n",
              "    <tr>\n",
              "      <th>124658</th>\n",
              "      <td>2021-06-08</td>\n",
              "      <td>ZW</td>\n",
              "      <td>Zimbabwe</td>\n",
              "      <td>AFRO</td>\n",
              "      <td>49</td>\n",
              "      <td>39238</td>\n",
              "      <td>5</td>\n",
              "      <td>1611</td>\n",
              "    </tr>\n",
              "    <tr>\n",
              "      <th>124659</th>\n",
              "      <td>2021-06-09</td>\n",
              "      <td>ZW</td>\n",
              "      <td>Zimbabwe</td>\n",
              "      <td>AFRO</td>\n",
              "      <td>83</td>\n",
              "      <td>39321</td>\n",
              "      <td>6</td>\n",
              "      <td>1617</td>\n",
              "    </tr>\n",
              "    <tr>\n",
              "      <th>124660</th>\n",
              "      <td>2021-06-10</td>\n",
              "      <td>ZW</td>\n",
              "      <td>Zimbabwe</td>\n",
              "      <td>AFRO</td>\n",
              "      <td>111</td>\n",
              "      <td>39432</td>\n",
              "      <td>5</td>\n",
              "      <td>1622</td>\n",
              "    </tr>\n",
              "    <tr>\n",
              "      <th>124661</th>\n",
              "      <td>2021-06-11</td>\n",
              "      <td>ZW</td>\n",
              "      <td>Zimbabwe</td>\n",
              "      <td>AFRO</td>\n",
              "      <td>64</td>\n",
              "      <td>39496</td>\n",
              "      <td>4</td>\n",
              "      <td>1626</td>\n",
              "    </tr>\n",
              "  </tbody>\n",
              "</table>\n",
              "<p>124662 rows × 8 columns</p>\n",
              "</div>"
            ],
            "text/plain": [
              "       Date_reported Country_code  ... New_deaths Cumulative_deaths\n",
              "0         2020-01-03           AF  ...          0                 0\n",
              "1         2020-01-04           AF  ...          0                 0\n",
              "2         2020-01-05           AF  ...          0                 0\n",
              "3         2020-01-06           AF  ...          0                 0\n",
              "4         2020-01-07           AF  ...          0                 0\n",
              "...              ...          ...  ...        ...               ...\n",
              "124657    2021-06-07           ZW  ...          1              1606\n",
              "124658    2021-06-08           ZW  ...          5              1611\n",
              "124659    2021-06-09           ZW  ...          6              1617\n",
              "124660    2021-06-10           ZW  ...          5              1622\n",
              "124661    2021-06-11           ZW  ...          4              1626\n",
              "\n",
              "[124662 rows x 8 columns]"
            ]
          },
          "metadata": {
            "tags": []
          },
          "execution_count": 5
        }
      ]
    },
    {
      "cell_type": "code",
      "metadata": {
        "colab": {
          "base_uri": "https://localhost:8080/"
        },
        "id": "_hDsmxFqJZUZ",
        "outputId": "5255b372-e96d-4430-fdae-0702e16c669e"
      },
      "source": [
        "df_index = df.index\n",
        "df_index"
      ],
      "execution_count": 6,
      "outputs": [
        {
          "output_type": "execute_result",
          "data": {
            "text/plain": [
              "RangeIndex(start=0, stop=124662, step=1)"
            ]
          },
          "metadata": {
            "tags": []
          },
          "execution_count": 6
        }
      ]
    },
    {
      "cell_type": "code",
      "metadata": {
        "colab": {
          "base_uri": "https://localhost:8080/"
        },
        "id": "05SuVizaJgsG",
        "outputId": "71de2c4b-dd11-4cee-f5bc-282b329e77cf"
      },
      "source": [
        "df_cols = df.columns\n",
        "df_cols"
      ],
      "execution_count": 7,
      "outputs": [
        {
          "output_type": "execute_result",
          "data": {
            "text/plain": [
              "Index(['Date_reported', 'Country_code', 'Country', 'WHO_region', 'New_cases',\n",
              "       'Cumulative_cases', 'New_deaths', 'Cumulative_deaths'],\n",
              "      dtype='object')"
            ]
          },
          "metadata": {
            "tags": []
          },
          "execution_count": 7
        }
      ]
    },
    {
      "cell_type": "code",
      "metadata": {
        "colab": {
          "base_uri": "https://localhost:8080/"
        },
        "id": "babXpHxlJojO",
        "outputId": "a1ac906d-b31e-4d65-e1b5-8a6f998e6df9"
      },
      "source": [
        "df_index.values"
      ],
      "execution_count": 8,
      "outputs": [
        {
          "output_type": "execute_result",
          "data": {
            "text/plain": [
              "array([     0,      1,      2, ..., 124659, 124660, 124661])"
            ]
          },
          "metadata": {
            "tags": []
          },
          "execution_count": 8
        }
      ]
    },
    {
      "cell_type": "code",
      "metadata": {
        "colab": {
          "base_uri": "https://localhost:8080/"
        },
        "id": "Krh1HXXBJtVM",
        "outputId": "88a2040d-7a56-47f7-fd31-4545dc5e9fd3"
      },
      "source": [
        "df.values"
      ],
      "execution_count": 9,
      "outputs": [
        {
          "output_type": "execute_result",
          "data": {
            "text/plain": [
              "array([['2020-01-03', 'AF', 'Afghanistan', ..., 0, 0, 0],\n",
              "       ['2020-01-04', 'AF', 'Afghanistan', ..., 0, 0, 0],\n",
              "       ['2020-01-05', 'AF', 'Afghanistan', ..., 0, 0, 0],\n",
              "       ...,\n",
              "       ['2021-06-09', 'ZW', 'Zimbabwe', ..., 39321, 6, 1617],\n",
              "       ['2021-06-10', 'ZW', 'Zimbabwe', ..., 39432, 5, 1622],\n",
              "       ['2021-06-11', 'ZW', 'Zimbabwe', ..., 39496, 4, 1626]],\n",
              "      dtype=object)"
            ]
          },
          "metadata": {
            "tags": []
          },
          "execution_count": 9
        }
      ]
    },
    {
      "cell_type": "code",
      "metadata": {
        "colab": {
          "base_uri": "https://localhost:8080/"
        },
        "id": "heYIslZKJvre",
        "outputId": "9b0601e5-6aeb-4424-d9aa-dd875dd7aa3a"
      },
      "source": [
        "df.dtypes"
      ],
      "execution_count": 10,
      "outputs": [
        {
          "output_type": "execute_result",
          "data": {
            "text/plain": [
              "Date_reported        object\n",
              "Country_code         object\n",
              "Country              object\n",
              "WHO_region           object\n",
              "New_cases             int64\n",
              "Cumulative_cases      int64\n",
              "New_deaths            int64\n",
              "Cumulative_deaths     int64\n",
              "dtype: object"
            ]
          },
          "metadata": {
            "tags": []
          },
          "execution_count": 10
        }
      ]
    },
    {
      "cell_type": "code",
      "metadata": {
        "colab": {
          "base_uri": "https://localhost:8080/"
        },
        "id": "CONZK18dJ0Q3",
        "outputId": "e6e7cc94-e179-4a43-b2d3-3b2c49f8706c"
      },
      "source": [
        "df.shape"
      ],
      "execution_count": 11,
      "outputs": [
        {
          "output_type": "execute_result",
          "data": {
            "text/plain": [
              "(124662, 8)"
            ]
          },
          "metadata": {
            "tags": []
          },
          "execution_count": 11
        }
      ]
    },
    {
      "cell_type": "code",
      "metadata": {
        "colab": {
          "base_uri": "https://localhost:8080/",
          "height": 204
        },
        "id": "KWodeB9sL4oz",
        "outputId": "8256e155-ca08-4841-adf4-60e6d8d738d0"
      },
      "source": [
        "df.head()"
      ],
      "execution_count": 12,
      "outputs": [
        {
          "output_type": "execute_result",
          "data": {
            "text/html": [
              "<div>\n",
              "<style scoped>\n",
              "    .dataframe tbody tr th:only-of-type {\n",
              "        vertical-align: middle;\n",
              "    }\n",
              "\n",
              "    .dataframe tbody tr th {\n",
              "        vertical-align: top;\n",
              "    }\n",
              "\n",
              "    .dataframe thead th {\n",
              "        text-align: right;\n",
              "    }\n",
              "</style>\n",
              "<table border=\"1\" class=\"dataframe\">\n",
              "  <thead>\n",
              "    <tr style=\"text-align: right;\">\n",
              "      <th></th>\n",
              "      <th>Date_reported</th>\n",
              "      <th>Country_code</th>\n",
              "      <th>Country</th>\n",
              "      <th>WHO_region</th>\n",
              "      <th>New_cases</th>\n",
              "      <th>Cumulative_cases</th>\n",
              "      <th>New_deaths</th>\n",
              "      <th>Cumulative_deaths</th>\n",
              "    </tr>\n",
              "  </thead>\n",
              "  <tbody>\n",
              "    <tr>\n",
              "      <th>0</th>\n",
              "      <td>2020-01-03</td>\n",
              "      <td>AF</td>\n",
              "      <td>Afghanistan</td>\n",
              "      <td>EMRO</td>\n",
              "      <td>0</td>\n",
              "      <td>0</td>\n",
              "      <td>0</td>\n",
              "      <td>0</td>\n",
              "    </tr>\n",
              "    <tr>\n",
              "      <th>1</th>\n",
              "      <td>2020-01-04</td>\n",
              "      <td>AF</td>\n",
              "      <td>Afghanistan</td>\n",
              "      <td>EMRO</td>\n",
              "      <td>0</td>\n",
              "      <td>0</td>\n",
              "      <td>0</td>\n",
              "      <td>0</td>\n",
              "    </tr>\n",
              "    <tr>\n",
              "      <th>2</th>\n",
              "      <td>2020-01-05</td>\n",
              "      <td>AF</td>\n",
              "      <td>Afghanistan</td>\n",
              "      <td>EMRO</td>\n",
              "      <td>0</td>\n",
              "      <td>0</td>\n",
              "      <td>0</td>\n",
              "      <td>0</td>\n",
              "    </tr>\n",
              "    <tr>\n",
              "      <th>3</th>\n",
              "      <td>2020-01-06</td>\n",
              "      <td>AF</td>\n",
              "      <td>Afghanistan</td>\n",
              "      <td>EMRO</td>\n",
              "      <td>0</td>\n",
              "      <td>0</td>\n",
              "      <td>0</td>\n",
              "      <td>0</td>\n",
              "    </tr>\n",
              "    <tr>\n",
              "      <th>4</th>\n",
              "      <td>2020-01-07</td>\n",
              "      <td>AF</td>\n",
              "      <td>Afghanistan</td>\n",
              "      <td>EMRO</td>\n",
              "      <td>0</td>\n",
              "      <td>0</td>\n",
              "      <td>0</td>\n",
              "      <td>0</td>\n",
              "    </tr>\n",
              "  </tbody>\n",
              "</table>\n",
              "</div>"
            ],
            "text/plain": [
              "  Date_reported Country_code  ... New_deaths Cumulative_deaths\n",
              "0    2020-01-03           AF  ...          0                 0\n",
              "1    2020-01-04           AF  ...          0                 0\n",
              "2    2020-01-05           AF  ...          0                 0\n",
              "3    2020-01-06           AF  ...          0                 0\n",
              "4    2020-01-07           AF  ...          0                 0\n",
              "\n",
              "[5 rows x 8 columns]"
            ]
          },
          "metadata": {
            "tags": []
          },
          "execution_count": 12
        }
      ]
    },
    {
      "cell_type": "code",
      "metadata": {
        "colab": {
          "base_uri": "https://localhost:8080/",
          "height": 204
        },
        "id": "Jp7SgeHoL6zS",
        "outputId": "f184b14d-e9d5-43b0-93c1-0e5798d8597a"
      },
      "source": [
        "df.tail()"
      ],
      "execution_count": 13,
      "outputs": [
        {
          "output_type": "execute_result",
          "data": {
            "text/html": [
              "<div>\n",
              "<style scoped>\n",
              "    .dataframe tbody tr th:only-of-type {\n",
              "        vertical-align: middle;\n",
              "    }\n",
              "\n",
              "    .dataframe tbody tr th {\n",
              "        vertical-align: top;\n",
              "    }\n",
              "\n",
              "    .dataframe thead th {\n",
              "        text-align: right;\n",
              "    }\n",
              "</style>\n",
              "<table border=\"1\" class=\"dataframe\">\n",
              "  <thead>\n",
              "    <tr style=\"text-align: right;\">\n",
              "      <th></th>\n",
              "      <th>Date_reported</th>\n",
              "      <th>Country_code</th>\n",
              "      <th>Country</th>\n",
              "      <th>WHO_region</th>\n",
              "      <th>New_cases</th>\n",
              "      <th>Cumulative_cases</th>\n",
              "      <th>New_deaths</th>\n",
              "      <th>Cumulative_deaths</th>\n",
              "    </tr>\n",
              "  </thead>\n",
              "  <tbody>\n",
              "    <tr>\n",
              "      <th>124657</th>\n",
              "      <td>2021-06-07</td>\n",
              "      <td>ZW</td>\n",
              "      <td>Zimbabwe</td>\n",
              "      <td>AFRO</td>\n",
              "      <td>21</td>\n",
              "      <td>39189</td>\n",
              "      <td>1</td>\n",
              "      <td>1606</td>\n",
              "    </tr>\n",
              "    <tr>\n",
              "      <th>124658</th>\n",
              "      <td>2021-06-08</td>\n",
              "      <td>ZW</td>\n",
              "      <td>Zimbabwe</td>\n",
              "      <td>AFRO</td>\n",
              "      <td>49</td>\n",
              "      <td>39238</td>\n",
              "      <td>5</td>\n",
              "      <td>1611</td>\n",
              "    </tr>\n",
              "    <tr>\n",
              "      <th>124659</th>\n",
              "      <td>2021-06-09</td>\n",
              "      <td>ZW</td>\n",
              "      <td>Zimbabwe</td>\n",
              "      <td>AFRO</td>\n",
              "      <td>83</td>\n",
              "      <td>39321</td>\n",
              "      <td>6</td>\n",
              "      <td>1617</td>\n",
              "    </tr>\n",
              "    <tr>\n",
              "      <th>124660</th>\n",
              "      <td>2021-06-10</td>\n",
              "      <td>ZW</td>\n",
              "      <td>Zimbabwe</td>\n",
              "      <td>AFRO</td>\n",
              "      <td>111</td>\n",
              "      <td>39432</td>\n",
              "      <td>5</td>\n",
              "      <td>1622</td>\n",
              "    </tr>\n",
              "    <tr>\n",
              "      <th>124661</th>\n",
              "      <td>2021-06-11</td>\n",
              "      <td>ZW</td>\n",
              "      <td>Zimbabwe</td>\n",
              "      <td>AFRO</td>\n",
              "      <td>64</td>\n",
              "      <td>39496</td>\n",
              "      <td>4</td>\n",
              "      <td>1626</td>\n",
              "    </tr>\n",
              "  </tbody>\n",
              "</table>\n",
              "</div>"
            ],
            "text/plain": [
              "       Date_reported Country_code  ... New_deaths Cumulative_deaths\n",
              "124657    2021-06-07           ZW  ...          1              1606\n",
              "124658    2021-06-08           ZW  ...          5              1611\n",
              "124659    2021-06-09           ZW  ...          6              1617\n",
              "124660    2021-06-10           ZW  ...          5              1622\n",
              "124661    2021-06-11           ZW  ...          4              1626\n",
              "\n",
              "[5 rows x 8 columns]"
            ]
          },
          "metadata": {
            "tags": []
          },
          "execution_count": 13
        }
      ]
    },
    {
      "cell_type": "code",
      "metadata": {
        "colab": {
          "base_uri": "https://localhost:8080/"
        },
        "id": "BvpzGihyMLJ5",
        "outputId": "0b719e33-9a7e-47ae-c98b-6358973beda6"
      },
      "source": [
        "df.info()"
      ],
      "execution_count": 14,
      "outputs": [
        {
          "output_type": "stream",
          "text": [
            "<class 'pandas.core.frame.DataFrame'>\n",
            "RangeIndex: 124662 entries, 0 to 124661\n",
            "Data columns (total 8 columns):\n",
            " #   Column             Non-Null Count   Dtype \n",
            "---  ------             --------------   ----- \n",
            " 0   Date_reported      124662 non-null  object\n",
            " 1   Country_code       124136 non-null  object\n",
            " 2   Country            124662 non-null  object\n",
            " 3   WHO_region         124662 non-null  object\n",
            " 4   New_cases          124662 non-null  int64 \n",
            " 5   Cumulative_cases   124662 non-null  int64 \n",
            " 6   New_deaths         124662 non-null  int64 \n",
            " 7   Cumulative_deaths  124662 non-null  int64 \n",
            "dtypes: int64(4), object(4)\n",
            "memory usage: 7.6+ MB\n"
          ],
          "name": "stdout"
        }
      ]
    },
    {
      "cell_type": "code",
      "metadata": {
        "colab": {
          "base_uri": "https://localhost:8080/",
          "height": 297
        },
        "id": "tVhtTYeDMM2x",
        "outputId": "93b28645-bfd5-443f-acbe-d3dfa76f479d"
      },
      "source": [
        "df.describe()"
      ],
      "execution_count": 15,
      "outputs": [
        {
          "output_type": "execute_result",
          "data": {
            "text/html": [
              "<div>\n",
              "<style scoped>\n",
              "    .dataframe tbody tr th:only-of-type {\n",
              "        vertical-align: middle;\n",
              "    }\n",
              "\n",
              "    .dataframe tbody tr th {\n",
              "        vertical-align: top;\n",
              "    }\n",
              "\n",
              "    .dataframe thead th {\n",
              "        text-align: right;\n",
              "    }\n",
              "</style>\n",
              "<table border=\"1\" class=\"dataframe\">\n",
              "  <thead>\n",
              "    <tr style=\"text-align: right;\">\n",
              "      <th></th>\n",
              "      <th>New_cases</th>\n",
              "      <th>Cumulative_cases</th>\n",
              "      <th>New_deaths</th>\n",
              "      <th>Cumulative_deaths</th>\n",
              "    </tr>\n",
              "  </thead>\n",
              "  <tbody>\n",
              "    <tr>\n",
              "      <th>count</th>\n",
              "      <td>124662.000000</td>\n",
              "      <td>1.246620e+05</td>\n",
              "      <td>124662.000000</td>\n",
              "      <td>124662.000000</td>\n",
              "    </tr>\n",
              "    <tr>\n",
              "      <th>mean</th>\n",
              "      <td>1399.806565</td>\n",
              "      <td>2.270778e+05</td>\n",
              "      <td>30.244670</td>\n",
              "      <td>5545.058342</td>\n",
              "    </tr>\n",
              "    <tr>\n",
              "      <th>std</th>\n",
              "      <td>9629.609839</td>\n",
              "      <td>1.439244e+06</td>\n",
              "      <td>169.854031</td>\n",
              "      <td>29289.694437</td>\n",
              "    </tr>\n",
              "    <tr>\n",
              "      <th>min</th>\n",
              "      <td>-32952.000000</td>\n",
              "      <td>0.000000e+00</td>\n",
              "      <td>-43.000000</td>\n",
              "      <td>0.000000</td>\n",
              "    </tr>\n",
              "    <tr>\n",
              "      <th>25%</th>\n",
              "      <td>0.000000</td>\n",
              "      <td>1.800000e+01</td>\n",
              "      <td>0.000000</td>\n",
              "      <td>0.000000</td>\n",
              "    </tr>\n",
              "    <tr>\n",
              "      <th>50%</th>\n",
              "      <td>7.000000</td>\n",
              "      <td>2.306000e+03</td>\n",
              "      <td>0.000000</td>\n",
              "      <td>38.000000</td>\n",
              "    </tr>\n",
              "    <tr>\n",
              "      <th>75%</th>\n",
              "      <td>289.000000</td>\n",
              "      <td>4.440125e+04</td>\n",
              "      <td>4.000000</td>\n",
              "      <td>737.000000</td>\n",
              "    </tr>\n",
              "    <tr>\n",
              "      <th>max</th>\n",
              "      <td>414188.000000</td>\n",
              "      <td>3.309496e+07</td>\n",
              "      <td>6508.000000</td>\n",
              "      <td>593365.000000</td>\n",
              "    </tr>\n",
              "  </tbody>\n",
              "</table>\n",
              "</div>"
            ],
            "text/plain": [
              "           New_cases  Cumulative_cases     New_deaths  Cumulative_deaths\n",
              "count  124662.000000      1.246620e+05  124662.000000      124662.000000\n",
              "mean     1399.806565      2.270778e+05      30.244670        5545.058342\n",
              "std      9629.609839      1.439244e+06     169.854031       29289.694437\n",
              "min    -32952.000000      0.000000e+00     -43.000000           0.000000\n",
              "25%         0.000000      1.800000e+01       0.000000           0.000000\n",
              "50%         7.000000      2.306000e+03       0.000000          38.000000\n",
              "75%       289.000000      4.440125e+04       4.000000         737.000000\n",
              "max    414188.000000      3.309496e+07    6508.000000      593365.000000"
            ]
          },
          "metadata": {
            "tags": []
          },
          "execution_count": 15
        }
      ]
    },
    {
      "cell_type": "code",
      "metadata": {
        "colab": {
          "base_uri": "https://localhost:8080/"
        },
        "id": "yBgngmxJMcc8",
        "outputId": "fd4c6e2d-fd73-456f-c244-92e1eff2088c"
      },
      "source": [
        "df[\"Country\"]"
      ],
      "execution_count": 18,
      "outputs": [
        {
          "output_type": "execute_result",
          "data": {
            "text/plain": [
              "0         Afghanistan\n",
              "1         Afghanistan\n",
              "2         Afghanistan\n",
              "3         Afghanistan\n",
              "4         Afghanistan\n",
              "             ...     \n",
              "124657       Zimbabwe\n",
              "124658       Zimbabwe\n",
              "124659       Zimbabwe\n",
              "124660       Zimbabwe\n",
              "124661       Zimbabwe\n",
              "Name: Country, Length: 124662, dtype: object"
            ]
          },
          "metadata": {
            "tags": []
          },
          "execution_count": 18
        }
      ]
    },
    {
      "cell_type": "code",
      "metadata": {
        "colab": {
          "base_uri": "https://localhost:8080/"
        },
        "id": "NCOoff9tMfN3",
        "outputId": "1eb25718-08f7-402d-9958-873895b0cfe7"
      },
      "source": [
        "df[\"Country\"].unique()"
      ],
      "execution_count": 19,
      "outputs": [
        {
          "output_type": "execute_result",
          "data": {
            "text/plain": [
              "array(['Afghanistan', 'Albania', 'Algeria', 'American Samoa', 'Andorra',\n",
              "       'Angola', 'Anguilla', 'Antigua and Barbuda', 'Argentina',\n",
              "       'Armenia', 'Aruba', 'Australia', 'Austria', 'Azerbaijan',\n",
              "       'Bahamas', 'Bahrain', 'Bangladesh', 'Barbados', 'Belarus',\n",
              "       'Belgium', 'Belize', 'Benin', 'Bermuda', 'Bhutan',\n",
              "       'Bolivia (Plurinational State of)', 'Bonaire',\n",
              "       'Bosnia and Herzegovina', 'Botswana', 'Brazil',\n",
              "       'British Virgin Islands', 'Brunei Darussalam', 'Bulgaria',\n",
              "       'Burkina Faso', 'Burundi', 'Cabo Verde', 'Cambodia', 'Cameroon',\n",
              "       'Canada', 'Cayman Islands', 'Central African Republic', 'Chad',\n",
              "       'Chile', 'China', 'Colombia', 'Comoros', 'Congo', 'Cook Islands',\n",
              "       'Costa Rica', 'Côte d’Ivoire', 'Croatia', 'Cuba', 'Curaçao',\n",
              "       'Cyprus', 'Czechia', \"Democratic People's Republic of Korea\",\n",
              "       'Democratic Republic of the Congo', 'Denmark', 'Djibouti',\n",
              "       'Dominica', 'Dominican Republic', 'Ecuador', 'Egypt',\n",
              "       'El Salvador', 'Equatorial Guinea', 'Eritrea', 'Estonia',\n",
              "       'Eswatini', 'Ethiopia', 'Falkland Islands (Malvinas)',\n",
              "       'Faroe Islands', 'Fiji', 'Finland', 'France', 'French Guiana',\n",
              "       'French Polynesia', 'Gabon', 'Gambia', 'Georgia', 'Germany',\n",
              "       'Ghana', 'Gibraltar', 'Greece', 'Greenland', 'Grenada',\n",
              "       'Guadeloupe', 'Guam', 'Guatemala', 'Guernsey', 'Guinea',\n",
              "       'Guinea-Bissau', 'Guyana', 'Haiti', 'Holy See', 'Honduras',\n",
              "       'Hungary', 'Iceland', 'India', 'Indonesia',\n",
              "       'Iran (Islamic Republic of)', 'Iraq', 'Ireland', 'Isle of Man',\n",
              "       'Israel', 'Italy', 'Jamaica', 'Japan', 'Jersey', 'Jordan',\n",
              "       'Kazakhstan', 'Kenya', 'Kiribati', 'Kosovo[1]', 'Kuwait',\n",
              "       'Kyrgyzstan', \"Lao People's Democratic Republic\", 'Latvia',\n",
              "       'Lebanon', 'Lesotho', 'Liberia', 'Libya', 'Liechtenstein',\n",
              "       'Lithuania', 'Luxembourg', 'Madagascar', 'Malawi', 'Malaysia',\n",
              "       'Maldives', 'Mali', 'Malta', 'Marshall Islands', 'Martinique',\n",
              "       'Mauritania', 'Mauritius', 'Mayotte', 'Mexico',\n",
              "       'Micronesia (Federated States of)', 'Monaco', 'Mongolia',\n",
              "       'Montenegro', 'Montserrat', 'Morocco', 'Mozambique', 'Myanmar',\n",
              "       'Namibia', 'Nauru', 'Nepal', 'Netherlands', 'New Caledonia',\n",
              "       'New Zealand', 'Nicaragua', 'Niger', 'Nigeria', 'Niue',\n",
              "       'North Macedonia',\n",
              "       'Northern Mariana Islands (Commonwealth of the)', 'Norway',\n",
              "       'occupied Palestinian territory, including east Jerusalem', 'Oman',\n",
              "       'Other', 'Pakistan', 'Palau', 'Panama', 'Papua New Guinea',\n",
              "       'Paraguay', 'Peru', 'Philippines', 'Pitcairn Islands', 'Poland',\n",
              "       'Portugal', 'Puerto Rico', 'Qatar', 'Republic of Korea',\n",
              "       'Republic of Moldova', 'Réunion', 'Romania', 'Russian Federation',\n",
              "       'Rwanda', 'Saba', 'Saint Barthélemy', 'Saint Helena',\n",
              "       'Saint Kitts and Nevis', 'Saint Lucia', 'Saint Martin',\n",
              "       'Saint Pierre and Miquelon', 'Saint Vincent and the Grenadines',\n",
              "       'Samoa', 'San Marino', 'Sao Tome and Principe', 'Saudi Arabia',\n",
              "       'Senegal', 'Serbia', 'Seychelles', 'Sierra Leone', 'Singapore',\n",
              "       'Sint Eustatius', 'Sint Maarten', 'Slovakia', 'Slovenia',\n",
              "       'Solomon Islands', 'Somalia', 'South Africa', 'South Sudan',\n",
              "       'Spain', 'Sri Lanka', 'Sudan', 'Suriname', 'Sweden', 'Switzerland',\n",
              "       'Syrian Arab Republic', 'Tajikistan', 'Thailand',\n",
              "       'The United Kingdom', 'Timor-Leste', 'Togo', 'Tokelau', 'Tonga',\n",
              "       'Trinidad and Tobago', 'Tunisia', 'Turkey', 'Turkmenistan',\n",
              "       'Turks and Caicos Islands', 'Tuvalu', 'Uganda', 'Ukraine',\n",
              "       'United Arab Emirates', 'United Republic of Tanzania',\n",
              "       'United States of America', 'United States Virgin Islands',\n",
              "       'Uruguay', 'Uzbekistan', 'Vanuatu',\n",
              "       'Venezuela (Bolivarian Republic of)', 'Viet Nam',\n",
              "       'Wallis and Futuna', 'Yemen', 'Zambia', 'Zimbabwe'], dtype=object)"
            ]
          },
          "metadata": {
            "tags": []
          },
          "execution_count": 19
        }
      ]
    },
    {
      "cell_type": "code",
      "metadata": {
        "colab": {
          "base_uri": "https://localhost:8080/"
        },
        "id": "2BMK1V8dM0jD",
        "outputId": "3772c931-ada5-45a1-e80f-b917df939072"
      },
      "source": [
        "df.columns = [col.strip() for col in df.columns]\n",
        "df.columns"
      ],
      "execution_count": 20,
      "outputs": [
        {
          "output_type": "execute_result",
          "data": {
            "text/plain": [
              "Index(['Date_reported', 'Country_code', 'Country', 'WHO_region', 'New_cases',\n",
              "       'Cumulative_cases', 'New_deaths', 'Cumulative_deaths'],\n",
              "      dtype='object')"
            ]
          },
          "metadata": {
            "tags": []
          },
          "execution_count": 20
        }
      ]
    },
    {
      "cell_type": "code",
      "metadata": {
        "colab": {
          "base_uri": "https://localhost:8080/"
        },
        "id": "dVxKYlEBNJ4c",
        "outputId": "c7899330-c3a3-463f-9ab5-cde581fdc8b2"
      },
      "source": [
        "df.Country"
      ],
      "execution_count": 21,
      "outputs": [
        {
          "output_type": "execute_result",
          "data": {
            "text/plain": [
              "0         Afghanistan\n",
              "1         Afghanistan\n",
              "2         Afghanistan\n",
              "3         Afghanistan\n",
              "4         Afghanistan\n",
              "             ...     \n",
              "124657       Zimbabwe\n",
              "124658       Zimbabwe\n",
              "124659       Zimbabwe\n",
              "124660       Zimbabwe\n",
              "124661       Zimbabwe\n",
              "Name: Country, Length: 124662, dtype: object"
            ]
          },
          "metadata": {
            "tags": []
          },
          "execution_count": 21
        }
      ]
    },
    {
      "cell_type": "code",
      "metadata": {
        "colab": {
          "base_uri": "https://localhost:8080/"
        },
        "id": "rNNIyGoCNMs-",
        "outputId": "c1d100dc-eb73-40c7-d0bf-729008f80410"
      },
      "source": [
        "df.loc[1:4, 'Country']"
      ],
      "execution_count": 22,
      "outputs": [
        {
          "output_type": "execute_result",
          "data": {
            "text/plain": [
              "1    Afghanistan\n",
              "2    Afghanistan\n",
              "3    Afghanistan\n",
              "4    Afghanistan\n",
              "Name: Country, dtype: object"
            ]
          },
          "metadata": {
            "tags": []
          },
          "execution_count": 22
        }
      ]
    },
    {
      "cell_type": "code",
      "metadata": {
        "colab": {
          "base_uri": "https://localhost:8080/",
          "height": 297
        },
        "id": "dYm5nIefNTAE",
        "outputId": "a54f2d5a-496b-41ea-940c-950cbb604e71"
      },
      "source": [
        "df.loc[1:8,['Country','New_cases']]"
      ],
      "execution_count": 24,
      "outputs": [
        {
          "output_type": "execute_result",
          "data": {
            "text/html": [
              "<div>\n",
              "<style scoped>\n",
              "    .dataframe tbody tr th:only-of-type {\n",
              "        vertical-align: middle;\n",
              "    }\n",
              "\n",
              "    .dataframe tbody tr th {\n",
              "        vertical-align: top;\n",
              "    }\n",
              "\n",
              "    .dataframe thead th {\n",
              "        text-align: right;\n",
              "    }\n",
              "</style>\n",
              "<table border=\"1\" class=\"dataframe\">\n",
              "  <thead>\n",
              "    <tr style=\"text-align: right;\">\n",
              "      <th></th>\n",
              "      <th>Country</th>\n",
              "      <th>New_cases</th>\n",
              "    </tr>\n",
              "  </thead>\n",
              "  <tbody>\n",
              "    <tr>\n",
              "      <th>1</th>\n",
              "      <td>Afghanistan</td>\n",
              "      <td>0</td>\n",
              "    </tr>\n",
              "    <tr>\n",
              "      <th>2</th>\n",
              "      <td>Afghanistan</td>\n",
              "      <td>0</td>\n",
              "    </tr>\n",
              "    <tr>\n",
              "      <th>3</th>\n",
              "      <td>Afghanistan</td>\n",
              "      <td>0</td>\n",
              "    </tr>\n",
              "    <tr>\n",
              "      <th>4</th>\n",
              "      <td>Afghanistan</td>\n",
              "      <td>0</td>\n",
              "    </tr>\n",
              "    <tr>\n",
              "      <th>5</th>\n",
              "      <td>Afghanistan</td>\n",
              "      <td>0</td>\n",
              "    </tr>\n",
              "    <tr>\n",
              "      <th>6</th>\n",
              "      <td>Afghanistan</td>\n",
              "      <td>0</td>\n",
              "    </tr>\n",
              "    <tr>\n",
              "      <th>7</th>\n",
              "      <td>Afghanistan</td>\n",
              "      <td>0</td>\n",
              "    </tr>\n",
              "    <tr>\n",
              "      <th>8</th>\n",
              "      <td>Afghanistan</td>\n",
              "      <td>0</td>\n",
              "    </tr>\n",
              "  </tbody>\n",
              "</table>\n",
              "</div>"
            ],
            "text/plain": [
              "       Country  New_cases\n",
              "1  Afghanistan          0\n",
              "2  Afghanistan          0\n",
              "3  Afghanistan          0\n",
              "4  Afghanistan          0\n",
              "5  Afghanistan          0\n",
              "6  Afghanistan          0\n",
              "7  Afghanistan          0\n",
              "8  Afghanistan          0"
            ]
          },
          "metadata": {
            "tags": []
          },
          "execution_count": 24
        }
      ]
    },
    {
      "cell_type": "code",
      "metadata": {
        "colab": {
          "base_uri": "https://localhost:8080/",
          "height": 419
        },
        "id": "cknWbCcINiZT",
        "outputId": "5c27002b-f1f4-4b5b-9955-31b3ec09de57"
      },
      "source": [
        "df[df.Country == 'United States of America']"
      ],
      "execution_count": 25,
      "outputs": [
        {
          "output_type": "execute_result",
          "data": {
            "text/html": [
              "<div>\n",
              "<style scoped>\n",
              "    .dataframe tbody tr th:only-of-type {\n",
              "        vertical-align: middle;\n",
              "    }\n",
              "\n",
              "    .dataframe tbody tr th {\n",
              "        vertical-align: top;\n",
              "    }\n",
              "\n",
              "    .dataframe thead th {\n",
              "        text-align: right;\n",
              "    }\n",
              "</style>\n",
              "<table border=\"1\" class=\"dataframe\">\n",
              "  <thead>\n",
              "    <tr style=\"text-align: right;\">\n",
              "      <th></th>\n",
              "      <th>Date_reported</th>\n",
              "      <th>Country_code</th>\n",
              "      <th>Country</th>\n",
              "      <th>WHO_region</th>\n",
              "      <th>New_cases</th>\n",
              "      <th>Cumulative_cases</th>\n",
              "      <th>New_deaths</th>\n",
              "      <th>Cumulative_deaths</th>\n",
              "    </tr>\n",
              "  </thead>\n",
              "  <tbody>\n",
              "    <tr>\n",
              "      <th>118876</th>\n",
              "      <td>2020-01-03</td>\n",
              "      <td>US</td>\n",
              "      <td>United States of America</td>\n",
              "      <td>AMRO</td>\n",
              "      <td>0</td>\n",
              "      <td>0</td>\n",
              "      <td>0</td>\n",
              "      <td>0</td>\n",
              "    </tr>\n",
              "    <tr>\n",
              "      <th>118877</th>\n",
              "      <td>2020-01-04</td>\n",
              "      <td>US</td>\n",
              "      <td>United States of America</td>\n",
              "      <td>AMRO</td>\n",
              "      <td>0</td>\n",
              "      <td>0</td>\n",
              "      <td>0</td>\n",
              "      <td>0</td>\n",
              "    </tr>\n",
              "    <tr>\n",
              "      <th>118878</th>\n",
              "      <td>2020-01-05</td>\n",
              "      <td>US</td>\n",
              "      <td>United States of America</td>\n",
              "      <td>AMRO</td>\n",
              "      <td>0</td>\n",
              "      <td>0</td>\n",
              "      <td>0</td>\n",
              "      <td>0</td>\n",
              "    </tr>\n",
              "    <tr>\n",
              "      <th>118879</th>\n",
              "      <td>2020-01-06</td>\n",
              "      <td>US</td>\n",
              "      <td>United States of America</td>\n",
              "      <td>AMRO</td>\n",
              "      <td>0</td>\n",
              "      <td>0</td>\n",
              "      <td>0</td>\n",
              "      <td>0</td>\n",
              "    </tr>\n",
              "    <tr>\n",
              "      <th>118880</th>\n",
              "      <td>2020-01-07</td>\n",
              "      <td>US</td>\n",
              "      <td>United States of America</td>\n",
              "      <td>AMRO</td>\n",
              "      <td>0</td>\n",
              "      <td>0</td>\n",
              "      <td>0</td>\n",
              "      <td>0</td>\n",
              "    </tr>\n",
              "    <tr>\n",
              "      <th>...</th>\n",
              "      <td>...</td>\n",
              "      <td>...</td>\n",
              "      <td>...</td>\n",
              "      <td>...</td>\n",
              "      <td>...</td>\n",
              "      <td>...</td>\n",
              "      <td>...</td>\n",
              "      <td>...</td>\n",
              "    </tr>\n",
              "    <tr>\n",
              "      <th>119397</th>\n",
              "      <td>2021-06-07</td>\n",
              "      <td>US</td>\n",
              "      <td>United States of America</td>\n",
              "      <td>AMRO</td>\n",
              "      <td>11608</td>\n",
              "      <td>33027212</td>\n",
              "      <td>420</td>\n",
              "      <td>591696</td>\n",
              "    </tr>\n",
              "    <tr>\n",
              "      <th>119398</th>\n",
              "      <td>2021-06-08</td>\n",
              "      <td>US</td>\n",
              "      <td>United States of America</td>\n",
              "      <td>AMRO</td>\n",
              "      <td>15410</td>\n",
              "      <td>33042622</td>\n",
              "      <td>418</td>\n",
              "      <td>592114</td>\n",
              "    </tr>\n",
              "    <tr>\n",
              "      <th>119399</th>\n",
              "      <td>2021-06-09</td>\n",
              "      <td>US</td>\n",
              "      <td>United States of America</td>\n",
              "      <td>AMRO</td>\n",
              "      <td>13739</td>\n",
              "      <td>33056361</td>\n",
              "      <td>496</td>\n",
              "      <td>592610</td>\n",
              "    </tr>\n",
              "    <tr>\n",
              "      <th>119400</th>\n",
              "      <td>2021-06-10</td>\n",
              "      <td>US</td>\n",
              "      <td>United States of America</td>\n",
              "      <td>AMRO</td>\n",
              "      <td>16551</td>\n",
              "      <td>33072912</td>\n",
              "      <td>322</td>\n",
              "      <td>592932</td>\n",
              "    </tr>\n",
              "    <tr>\n",
              "      <th>119401</th>\n",
              "      <td>2021-06-11</td>\n",
              "      <td>US</td>\n",
              "      <td>United States of America</td>\n",
              "      <td>AMRO</td>\n",
              "      <td>22053</td>\n",
              "      <td>33094965</td>\n",
              "      <td>433</td>\n",
              "      <td>593365</td>\n",
              "    </tr>\n",
              "  </tbody>\n",
              "</table>\n",
              "<p>526 rows × 8 columns</p>\n",
              "</div>"
            ],
            "text/plain": [
              "       Date_reported Country_code  ... New_deaths Cumulative_deaths\n",
              "118876    2020-01-03           US  ...          0                 0\n",
              "118877    2020-01-04           US  ...          0                 0\n",
              "118878    2020-01-05           US  ...          0                 0\n",
              "118879    2020-01-06           US  ...          0                 0\n",
              "118880    2020-01-07           US  ...          0                 0\n",
              "...              ...          ...  ...        ...               ...\n",
              "119397    2021-06-07           US  ...        420            591696\n",
              "119398    2021-06-08           US  ...        418            592114\n",
              "119399    2021-06-09           US  ...        496            592610\n",
              "119400    2021-06-10           US  ...        322            592932\n",
              "119401    2021-06-11           US  ...        433            593365\n",
              "\n",
              "[526 rows x 8 columns]"
            ]
          },
          "metadata": {
            "tags": []
          },
          "execution_count": 25
        }
      ]
    },
    {
      "cell_type": "code",
      "metadata": {
        "colab": {
          "base_uri": "https://localhost:8080/",
          "height": 419
        },
        "id": "TnXg9I5ZN6PH",
        "outputId": "aab4f77f-d104-4c66-edd8-f7b6d582b6f5"
      },
      "source": [
        "df[df.New_deaths > 1000]"
      ],
      "execution_count": 26,
      "outputs": [
        {
          "output_type": "execute_result",
          "data": {
            "text/html": [
              "<div>\n",
              "<style scoped>\n",
              "    .dataframe tbody tr th:only-of-type {\n",
              "        vertical-align: middle;\n",
              "    }\n",
              "\n",
              "    .dataframe tbody tr th {\n",
              "        vertical-align: top;\n",
              "    }\n",
              "\n",
              "    .dataframe thead th {\n",
              "        text-align: right;\n",
              "    }\n",
              "</style>\n",
              "<table border=\"1\" class=\"dataframe\">\n",
              "  <thead>\n",
              "    <tr style=\"text-align: right;\">\n",
              "      <th></th>\n",
              "      <th>Date_reported</th>\n",
              "      <th>Country_code</th>\n",
              "      <th>Country</th>\n",
              "      <th>WHO_region</th>\n",
              "      <th>New_cases</th>\n",
              "      <th>Cumulative_cases</th>\n",
              "      <th>New_deaths</th>\n",
              "      <th>Cumulative_deaths</th>\n",
              "    </tr>\n",
              "  </thead>\n",
              "  <tbody>\n",
              "    <tr>\n",
              "      <th>4482</th>\n",
              "      <td>2020-10-03</td>\n",
              "      <td>AR</td>\n",
              "      <td>Argentina</td>\n",
              "      <td>AMRO</td>\n",
              "      <td>14001</td>\n",
              "      <td>765002</td>\n",
              "      <td>3351</td>\n",
              "      <td>20288</td>\n",
              "    </tr>\n",
              "    <tr>\n",
              "      <th>12873</th>\n",
              "      <td>2020-09-08</td>\n",
              "      <td>BO</td>\n",
              "      <td>Bolivia (Plurinational State of)</td>\n",
              "      <td>AMRO</td>\n",
              "      <td>528</td>\n",
              "      <td>120769</td>\n",
              "      <td>1610</td>\n",
              "      <td>7008</td>\n",
              "    </tr>\n",
              "    <tr>\n",
              "      <th>14867</th>\n",
              "      <td>2020-05-21</td>\n",
              "      <td>BR</td>\n",
              "      <td>Brazil</td>\n",
              "      <td>AMRO</td>\n",
              "      <td>17408</td>\n",
              "      <td>271628</td>\n",
              "      <td>1179</td>\n",
              "      <td>17971</td>\n",
              "    </tr>\n",
              "    <tr>\n",
              "      <th>14869</th>\n",
              "      <td>2020-05-23</td>\n",
              "      <td>BR</td>\n",
              "      <td>Brazil</td>\n",
              "      <td>AMRO</td>\n",
              "      <td>18508</td>\n",
              "      <td>310087</td>\n",
              "      <td>1188</td>\n",
              "      <td>20047</td>\n",
              "    </tr>\n",
              "    <tr>\n",
              "      <th>14870</th>\n",
              "      <td>2020-05-24</td>\n",
              "      <td>BR</td>\n",
              "      <td>Brazil</td>\n",
              "      <td>AMRO</td>\n",
              "      <td>20803</td>\n",
              "      <td>330890</td>\n",
              "      <td>1001</td>\n",
              "      <td>21048</td>\n",
              "    </tr>\n",
              "    <tr>\n",
              "      <th>...</th>\n",
              "      <td>...</td>\n",
              "      <td>...</td>\n",
              "      <td>...</td>\n",
              "      <td>...</td>\n",
              "      <td>...</td>\n",
              "      <td>...</td>\n",
              "      <td>...</td>\n",
              "      <td>...</td>\n",
              "    </tr>\n",
              "    <tr>\n",
              "      <th>119319</th>\n",
              "      <td>2021-03-21</td>\n",
              "      <td>US</td>\n",
              "      <td>United States of America</td>\n",
              "      <td>AMRO</td>\n",
              "      <td>61405</td>\n",
              "      <td>29466572</td>\n",
              "      <td>1359</td>\n",
              "      <td>539915</td>\n",
              "    </tr>\n",
              "    <tr>\n",
              "      <th>119324</th>\n",
              "      <td>2021-03-26</td>\n",
              "      <td>US</td>\n",
              "      <td>United States of America</td>\n",
              "      <td>AMRO</td>\n",
              "      <td>65751</td>\n",
              "      <td>29747372</td>\n",
              "      <td>1091</td>\n",
              "      <td>543855</td>\n",
              "    </tr>\n",
              "    <tr>\n",
              "      <th>119325</th>\n",
              "      <td>2021-03-27</td>\n",
              "      <td>US</td>\n",
              "      <td>United States of America</td>\n",
              "      <td>AMRO</td>\n",
              "      <td>67796</td>\n",
              "      <td>29815168</td>\n",
              "      <td>1237</td>\n",
              "      <td>545092</td>\n",
              "    </tr>\n",
              "    <tr>\n",
              "      <th>119326</th>\n",
              "      <td>2021-03-28</td>\n",
              "      <td>US</td>\n",
              "      <td>United States of America</td>\n",
              "      <td>AMRO</td>\n",
              "      <td>71388</td>\n",
              "      <td>29886556</td>\n",
              "      <td>1170</td>\n",
              "      <td>546262</td>\n",
              "    </tr>\n",
              "    <tr>\n",
              "      <th>119387</th>\n",
              "      <td>2021-05-28</td>\n",
              "      <td>US</td>\n",
              "      <td>United States of America</td>\n",
              "      <td>AMRO</td>\n",
              "      <td>24462</td>\n",
              "      <td>32869009</td>\n",
              "      <td>1120</td>\n",
              "      <td>586890</td>\n",
              "    </tr>\n",
              "  </tbody>\n",
              "</table>\n",
              "<p>611 rows × 8 columns</p>\n",
              "</div>"
            ],
            "text/plain": [
              "       Date_reported Country_code  ... New_deaths Cumulative_deaths\n",
              "4482      2020-10-03           AR  ...       3351             20288\n",
              "12873     2020-09-08           BO  ...       1610              7008\n",
              "14867     2020-05-21           BR  ...       1179             17971\n",
              "14869     2020-05-23           BR  ...       1188             20047\n",
              "14870     2020-05-24           BR  ...       1001             21048\n",
              "...              ...          ...  ...        ...               ...\n",
              "119319    2021-03-21           US  ...       1359            539915\n",
              "119324    2021-03-26           US  ...       1091            543855\n",
              "119325    2021-03-27           US  ...       1237            545092\n",
              "119326    2021-03-28           US  ...       1170            546262\n",
              "119387    2021-05-28           US  ...       1120            586890\n",
              "\n",
              "[611 rows x 8 columns]"
            ]
          },
          "metadata": {
            "tags": []
          },
          "execution_count": 26
        }
      ]
    },
    {
      "cell_type": "code",
      "metadata": {
        "colab": {
          "base_uri": "https://localhost:8080/"
        },
        "id": "dM4f08EPN_wm",
        "outputId": "2c7cc89f-41e4-4f57-ac91-be5a515cf819"
      },
      "source": [
        "df.loc[df.Country_code == 'US',['New_cases']].max()"
      ],
      "execution_count": 28,
      "outputs": [
        {
          "output_type": "execute_result",
          "data": {
            "text/plain": [
              "New_cases    312247\n",
              "dtype: int64"
            ]
          },
          "metadata": {
            "tags": []
          },
          "execution_count": 28
        }
      ]
    },
    {
      "cell_type": "code",
      "metadata": {
        "colab": {
          "base_uri": "https://localhost:8080/"
        },
        "id": "mIt1yihwOyA_",
        "outputId": "39763684-382d-41f3-e003-763c856d46bf"
      },
      "source": [
        "df.loc[df.Country_code == 'US',['New_cases']].min()"
      ],
      "execution_count": 29,
      "outputs": [
        {
          "output_type": "execute_result",
          "data": {
            "text/plain": [
              "New_cases    0\n",
              "dtype: int64"
            ]
          },
          "metadata": {
            "tags": []
          },
          "execution_count": 29
        }
      ]
    },
    {
      "cell_type": "code",
      "metadata": {
        "colab": {
          "base_uri": "https://localhost:8080/"
        },
        "id": "rkwc24taPXeJ",
        "outputId": "a11a29a9-a07c-44f6-e6cd-d3d11b3369f4"
      },
      "source": [
        "df.loc[df.Country_code == 'US',['New_cases']].sum()"
      ],
      "execution_count": 30,
      "outputs": [
        {
          "output_type": "execute_result",
          "data": {
            "text/plain": [
              "New_cases    33094965\n",
              "dtype: int64"
            ]
          },
          "metadata": {
            "tags": []
          },
          "execution_count": 30
        }
      ]
    },
    {
      "cell_type": "code",
      "metadata": {
        "colab": {
          "base_uri": "https://localhost:8080/"
        },
        "id": "nPtPH6ASPbwK",
        "outputId": "0792759f-085e-46c4-c63f-acde75b50dc7"
      },
      "source": [
        "df.loc[df.Country_code == 'US',['New_deaths']].sum()"
      ],
      "execution_count": 31,
      "outputs": [
        {
          "output_type": "execute_result",
          "data": {
            "text/plain": [
              "New_deaths    593365\n",
              "dtype: int64"
            ]
          },
          "metadata": {
            "tags": []
          },
          "execution_count": 31
        }
      ]
    },
    {
      "cell_type": "code",
      "metadata": {
        "colab": {
          "base_uri": "https://localhost:8080/"
        },
        "id": "MK9Vxi16Ph0u",
        "outputId": "f104af9a-e814-48a9-8fe3-ee4a0df5b098"
      },
      "source": [
        "df.loc[df.Country_code == 'US',['Cumulative_deaths']].max()"
      ],
      "execution_count": 32,
      "outputs": [
        {
          "output_type": "execute_result",
          "data": {
            "text/plain": [
              "Cumulative_deaths    593365\n",
              "dtype: int64"
            ]
          },
          "metadata": {
            "tags": []
          },
          "execution_count": 32
        }
      ]
    },
    {
      "cell_type": "code",
      "metadata": {
        "colab": {
          "base_uri": "https://localhost:8080/"
        },
        "id": "Y8yd2-gvPm9O",
        "outputId": "859ba0ce-2b3a-4739-e920-cb44fc17b296"
      },
      "source": [
        "df.New_deaths.idxmax()"
      ],
      "execution_count": 33,
      "outputs": [
        {
          "output_type": "execute_result",
          "data": {
            "text/plain": [
              "118981"
            ]
          },
          "metadata": {
            "tags": []
          },
          "execution_count": 33
        }
      ]
    },
    {
      "cell_type": "code",
      "metadata": {
        "colab": {
          "base_uri": "https://localhost:8080/"
        },
        "id": "FVDZ0Ni0P6Jt",
        "outputId": "3cd77049-6d75-41ab-b3b7-d312d5fb97ce"
      },
      "source": [
        "df.loc[df.New_deaths.idxmax(),['Date_reported','Country','New_cases','New_deaths','Cumulative_deaths']]"
      ],
      "execution_count": 34,
      "outputs": [
        {
          "output_type": "execute_result",
          "data": {
            "text/plain": [
              "Date_reported                      2020-04-17\n",
              "Country              United States of America\n",
              "New_cases                               27172\n",
              "New_deaths                               6508\n",
              "Cumulative_deaths                       32047\n",
              "Name: 118981, dtype: object"
            ]
          },
          "metadata": {
            "tags": []
          },
          "execution_count": 34
        }
      ]
    },
    {
      "cell_type": "code",
      "metadata": {
        "colab": {
          "base_uri": "https://localhost:8080/",
          "height": 1000
        },
        "id": "RQrzL6EwQQ01",
        "outputId": "7ea1eefd-9df0-44ab-a9b1-db23ff1952b2"
      },
      "source": [
        "df[df.New_deaths < 0]"
      ],
      "execution_count": 35,
      "outputs": [
        {
          "output_type": "execute_result",
          "data": {
            "text/html": [
              "<div>\n",
              "<style scoped>\n",
              "    .dataframe tbody tr th:only-of-type {\n",
              "        vertical-align: middle;\n",
              "    }\n",
              "\n",
              "    .dataframe tbody tr th {\n",
              "        vertical-align: top;\n",
              "    }\n",
              "\n",
              "    .dataframe thead th {\n",
              "        text-align: right;\n",
              "    }\n",
              "</style>\n",
              "<table border=\"1\" class=\"dataframe\">\n",
              "  <thead>\n",
              "    <tr style=\"text-align: right;\">\n",
              "      <th></th>\n",
              "      <th>Date_reported</th>\n",
              "      <th>Country_code</th>\n",
              "      <th>Country</th>\n",
              "      <th>WHO_region</th>\n",
              "      <th>New_cases</th>\n",
              "      <th>Cumulative_cases</th>\n",
              "      <th>New_deaths</th>\n",
              "      <th>Cumulative_deaths</th>\n",
              "    </tr>\n",
              "  </thead>\n",
              "  <tbody>\n",
              "    <tr>\n",
              "      <th>1266</th>\n",
              "      <td>2020-08-04</td>\n",
              "      <td>DZ</td>\n",
              "      <td>Algeria</td>\n",
              "      <td>AFRO</td>\n",
              "      <td>507</td>\n",
              "      <td>31972</td>\n",
              "      <td>-2</td>\n",
              "      <td>1229</td>\n",
              "    </tr>\n",
              "    <tr>\n",
              "      <th>2906</th>\n",
              "      <td>2020-10-05</td>\n",
              "      <td>AO</td>\n",
              "      <td>Angola</td>\n",
              "      <td>AFRO</td>\n",
              "      <td>0</td>\n",
              "      <td>5370</td>\n",
              "      <td>-4</td>\n",
              "      <td>185</td>\n",
              "    </tr>\n",
              "    <tr>\n",
              "      <th>7604</th>\n",
              "      <td>2020-08-30</td>\n",
              "      <td>BS</td>\n",
              "      <td>Bahamas</td>\n",
              "      <td>AMRO</td>\n",
              "      <td>37</td>\n",
              "      <td>2057</td>\n",
              "      <td>-10</td>\n",
              "      <td>40</td>\n",
              "    </tr>\n",
              "    <tr>\n",
              "      <th>7821</th>\n",
              "      <td>2021-04-04</td>\n",
              "      <td>BS</td>\n",
              "      <td>Bahamas</td>\n",
              "      <td>AMRO</td>\n",
              "      <td>35</td>\n",
              "      <td>9234</td>\n",
              "      <td>-1</td>\n",
              "      <td>188</td>\n",
              "    </tr>\n",
              "    <tr>\n",
              "      <th>17024</th>\n",
              "      <td>2020-07-13</td>\n",
              "      <td>BF</td>\n",
              "      <td>Burkina Faso</td>\n",
              "      <td>AFRO</td>\n",
              "      <td>13</td>\n",
              "      <td>1033</td>\n",
              "      <td>-1</td>\n",
              "      <td>53</td>\n",
              "    </tr>\n",
              "    <tr>\n",
              "      <th>23828</th>\n",
              "      <td>2020-06-09</td>\n",
              "      <td>CG</td>\n",
              "      <td>Congo</td>\n",
              "      <td>AFRO</td>\n",
              "      <td>0</td>\n",
              "      <td>683</td>\n",
              "      <td>-2</td>\n",
              "      <td>20</td>\n",
              "    </tr>\n",
              "    <tr>\n",
              "      <th>26525</th>\n",
              "      <td>2020-08-15</td>\n",
              "      <td>CU</td>\n",
              "      <td>Cuba</td>\n",
              "      <td>AMRO</td>\n",
              "      <td>55</td>\n",
              "      <td>3229</td>\n",
              "      <td>-1</td>\n",
              "      <td>88</td>\n",
              "    </tr>\n",
              "    <tr>\n",
              "      <th>28062</th>\n",
              "      <td>2020-07-05</td>\n",
              "      <td>CZ</td>\n",
              "      <td>Czechia</td>\n",
              "      <td>EURO</td>\n",
              "      <td>121</td>\n",
              "      <td>12440</td>\n",
              "      <td>-1</td>\n",
              "      <td>351</td>\n",
              "    </tr>\n",
              "    <tr>\n",
              "      <th>28063</th>\n",
              "      <td>2020-07-06</td>\n",
              "      <td>CZ</td>\n",
              "      <td>Czechia</td>\n",
              "      <td>EURO</td>\n",
              "      <td>75</td>\n",
              "      <td>12515</td>\n",
              "      <td>-3</td>\n",
              "      <td>348</td>\n",
              "    </tr>\n",
              "    <tr>\n",
              "      <th>34026</th>\n",
              "      <td>2020-12-30</td>\n",
              "      <td>ER</td>\n",
              "      <td>Eritrea</td>\n",
              "      <td>AFRO</td>\n",
              "      <td>181</td>\n",
              "      <td>1220</td>\n",
              "      <td>-1</td>\n",
              "      <td>1</td>\n",
              "    </tr>\n",
              "    <tr>\n",
              "      <th>34111</th>\n",
              "      <td>2021-03-25</td>\n",
              "      <td>ER</td>\n",
              "      <td>Eritrea</td>\n",
              "      <td>AFRO</td>\n",
              "      <td>20</td>\n",
              "      <td>3183</td>\n",
              "      <td>-27</td>\n",
              "      <td>8</td>\n",
              "    </tr>\n",
              "    <tr>\n",
              "      <th>34956</th>\n",
              "      <td>2020-08-30</td>\n",
              "      <td>SZ</td>\n",
              "      <td>Eswatini</td>\n",
              "      <td>AFRO</td>\n",
              "      <td>49</td>\n",
              "      <td>4510</td>\n",
              "      <td>-2</td>\n",
              "      <td>91</td>\n",
              "    </tr>\n",
              "    <tr>\n",
              "      <th>35163</th>\n",
              "      <td>2021-03-25</td>\n",
              "      <td>SZ</td>\n",
              "      <td>Eswatini</td>\n",
              "      <td>AFRO</td>\n",
              "      <td>5</td>\n",
              "      <td>17301</td>\n",
              "      <td>-2</td>\n",
              "      <td>666</td>\n",
              "    </tr>\n",
              "    <tr>\n",
              "      <th>38857</th>\n",
              "      <td>2021-04-06</td>\n",
              "      <td>GF</td>\n",
              "      <td>French Guiana</td>\n",
              "      <td>AMRO</td>\n",
              "      <td>0</td>\n",
              "      <td>17132</td>\n",
              "      <td>-3</td>\n",
              "      <td>93</td>\n",
              "    </tr>\n",
              "    <tr>\n",
              "      <th>44369</th>\n",
              "      <td>2020-07-06</td>\n",
              "      <td>GP</td>\n",
              "      <td>Guadeloupe</td>\n",
              "      <td>AMRO</td>\n",
              "      <td>0</td>\n",
              "      <td>184</td>\n",
              "      <td>-2</td>\n",
              "      <td>14</td>\n",
              "    </tr>\n",
              "    <tr>\n",
              "      <th>45359</th>\n",
              "      <td>2020-05-05</td>\n",
              "      <td>GT</td>\n",
              "      <td>Guatemala</td>\n",
              "      <td>AMRO</td>\n",
              "      <td>15</td>\n",
              "      <td>703</td>\n",
              "      <td>-2</td>\n",
              "      <td>17</td>\n",
              "    </tr>\n",
              "    <tr>\n",
              "      <th>46471</th>\n",
              "      <td>2020-07-04</td>\n",
              "      <td>GN</td>\n",
              "      <td>Guinea</td>\n",
              "      <td>AFRO</td>\n",
              "      <td>71</td>\n",
              "      <td>5521</td>\n",
              "      <td>-13</td>\n",
              "      <td>33</td>\n",
              "    </tr>\n",
              "    <tr>\n",
              "      <th>49293</th>\n",
              "      <td>2021-01-12</td>\n",
              "      <td>HN</td>\n",
              "      <td>Honduras</td>\n",
              "      <td>AMRO</td>\n",
              "      <td>719</td>\n",
              "      <td>127945</td>\n",
              "      <td>-2</td>\n",
              "      <td>3273</td>\n",
              "    </tr>\n",
              "    <tr>\n",
              "      <th>52874</th>\n",
              "      <td>2020-10-03</td>\n",
              "      <td>IE</td>\n",
              "      <td>Ireland</td>\n",
              "      <td>EURO</td>\n",
              "      <td>466</td>\n",
              "      <td>37063</td>\n",
              "      <td>-5</td>\n",
              "      <td>1801</td>\n",
              "    </tr>\n",
              "    <tr>\n",
              "      <th>54352</th>\n",
              "      <td>2020-06-25</td>\n",
              "      <td>IT</td>\n",
              "      <td>Italy</td>\n",
              "      <td>EURO</td>\n",
              "      <td>577</td>\n",
              "      <td>239410</td>\n",
              "      <td>-31</td>\n",
              "      <td>34644</td>\n",
              "    </tr>\n",
              "    <tr>\n",
              "      <th>61923</th>\n",
              "      <td>2021-01-18</td>\n",
              "      <td>LS</td>\n",
              "      <td>Lesotho</td>\n",
              "      <td>AFRO</td>\n",
              "      <td>0</td>\n",
              "      <td>6371</td>\n",
              "      <td>-4</td>\n",
              "      <td>93</td>\n",
              "    </tr>\n",
              "    <tr>\n",
              "      <th>67245</th>\n",
              "      <td>2021-03-21</td>\n",
              "      <td>ML</td>\n",
              "      <td>Mali</td>\n",
              "      <td>AFRO</td>\n",
              "      <td>204</td>\n",
              "      <td>9270</td>\n",
              "      <td>-3</td>\n",
              "      <td>360</td>\n",
              "    </tr>\n",
              "    <tr>\n",
              "      <th>70123</th>\n",
              "      <td>2020-06-16</td>\n",
              "      <td>YT</td>\n",
              "      <td>Mayotte</td>\n",
              "      <td>AFRO</td>\n",
              "      <td>28</td>\n",
              "      <td>2310</td>\n",
              "      <td>-1</td>\n",
              "      <td>28</td>\n",
              "    </tr>\n",
              "    <tr>\n",
              "      <th>75468</th>\n",
              "      <td>2020-09-09</td>\n",
              "      <td>NaN</td>\n",
              "      <td>Namibia</td>\n",
              "      <td>AFRO</td>\n",
              "      <td>118</td>\n",
              "      <td>8928</td>\n",
              "      <td>-2</td>\n",
              "      <td>89</td>\n",
              "    </tr>\n",
              "    <tr>\n",
              "      <th>86866</th>\n",
              "      <td>2020-03-19</td>\n",
              "      <td>PH</td>\n",
              "      <td>Philippines</td>\n",
              "      <td>WPRO</td>\n",
              "      <td>15</td>\n",
              "      <td>202</td>\n",
              "      <td>-2</td>\n",
              "      <td>17</td>\n",
              "    </tr>\n",
              "    <tr>\n",
              "      <th>89017</th>\n",
              "      <td>2020-05-05</td>\n",
              "      <td>PR</td>\n",
              "      <td>Puerto Rico</td>\n",
              "      <td>AMRO</td>\n",
              "      <td>35</td>\n",
              "      <td>1843</td>\n",
              "      <td>-43</td>\n",
              "      <td>54</td>\n",
              "    </tr>\n",
              "    <tr>\n",
              "      <th>91233</th>\n",
              "      <td>2020-08-25</td>\n",
              "      <td>RE</td>\n",
              "      <td>Réunion</td>\n",
              "      <td>AFRO</td>\n",
              "      <td>35</td>\n",
              "      <td>1244</td>\n",
              "      <td>-4</td>\n",
              "      <td>2</td>\n",
              "    </tr>\n",
              "    <tr>\n",
              "      <th>98490</th>\n",
              "      <td>2020-05-10</td>\n",
              "      <td>ST</td>\n",
              "      <td>Sao Tome and Principe</td>\n",
              "      <td>AFRO</td>\n",
              "      <td>-43</td>\n",
              "      <td>165</td>\n",
              "      <td>-1</td>\n",
              "      <td>4</td>\n",
              "    </tr>\n",
              "    <tr>\n",
              "      <th>102667</th>\n",
              "      <td>2020-04-09</td>\n",
              "      <td>SX</td>\n",
              "      <td>Sint Maarten</td>\n",
              "      <td>AMRO</td>\n",
              "      <td>-3</td>\n",
              "      <td>37</td>\n",
              "      <td>-2</td>\n",
              "      <td>6</td>\n",
              "    </tr>\n",
              "    <tr>\n",
              "      <th>105867</th>\n",
              "      <td>2020-05-23</td>\n",
              "      <td>SS</td>\n",
              "      <td>South Sudan</td>\n",
              "      <td>AFRO</td>\n",
              "      <td>0</td>\n",
              "      <td>473</td>\n",
              "      <td>-1</td>\n",
              "      <td>5</td>\n",
              "    </tr>\n",
              "    <tr>\n",
              "      <th>105977</th>\n",
              "      <td>2020-09-10</td>\n",
              "      <td>SS</td>\n",
              "      <td>South Sudan</td>\n",
              "      <td>AFRO</td>\n",
              "      <td>0</td>\n",
              "      <td>2555</td>\n",
              "      <td>-1</td>\n",
              "      <td>48</td>\n",
              "    </tr>\n",
              "    <tr>\n",
              "      <th>106064</th>\n",
              "      <td>2020-12-06</td>\n",
              "      <td>SS</td>\n",
              "      <td>South Sudan</td>\n",
              "      <td>AFRO</td>\n",
              "      <td>12</td>\n",
              "      <td>3166</td>\n",
              "      <td>-1</td>\n",
              "      <td>61</td>\n",
              "    </tr>\n",
              "    <tr>\n",
              "      <th>106219</th>\n",
              "      <td>2021-05-10</td>\n",
              "      <td>SS</td>\n",
              "      <td>South Sudan</td>\n",
              "      <td>AFRO</td>\n",
              "      <td>0</td>\n",
              "      <td>10637</td>\n",
              "      <td>-1</td>\n",
              "      <td>115</td>\n",
              "    </tr>\n",
              "    <tr>\n",
              "      <th>112484</th>\n",
              "      <td>2021-03-24</td>\n",
              "      <td>TG</td>\n",
              "      <td>Togo</td>\n",
              "      <td>AFRO</td>\n",
              "      <td>117</td>\n",
              "      <td>9077</td>\n",
              "      <td>-9</td>\n",
              "      <td>95</td>\n",
              "    </tr>\n",
              "    <tr>\n",
              "      <th>117218</th>\n",
              "      <td>2021-03-24</td>\n",
              "      <td>UG</td>\n",
              "      <td>Uganda</td>\n",
              "      <td>AFRO</td>\n",
              "      <td>32</td>\n",
              "      <td>40719</td>\n",
              "      <td>-5</td>\n",
              "      <td>334</td>\n",
              "    </tr>\n",
              "    <tr>\n",
              "      <th>117258</th>\n",
              "      <td>2021-05-03</td>\n",
              "      <td>UG</td>\n",
              "      <td>Uganda</td>\n",
              "      <td>AFRO</td>\n",
              "      <td>66</td>\n",
              "      <td>41973</td>\n",
              "      <td>-1</td>\n",
              "      <td>342</td>\n",
              "    </tr>\n",
              "    <tr>\n",
              "      <th>124314</th>\n",
              "      <td>2020-06-29</td>\n",
              "      <td>ZW</td>\n",
              "      <td>Zimbabwe</td>\n",
              "      <td>AFRO</td>\n",
              "      <td>0</td>\n",
              "      <td>567</td>\n",
              "      <td>-1</td>\n",
              "      <td>6</td>\n",
              "    </tr>\n",
              "  </tbody>\n",
              "</table>\n",
              "</div>"
            ],
            "text/plain": [
              "       Date_reported Country_code  ... New_deaths Cumulative_deaths\n",
              "1266      2020-08-04           DZ  ...         -2              1229\n",
              "2906      2020-10-05           AO  ...         -4               185\n",
              "7604      2020-08-30           BS  ...        -10                40\n",
              "7821      2021-04-04           BS  ...         -1               188\n",
              "17024     2020-07-13           BF  ...         -1                53\n",
              "23828     2020-06-09           CG  ...         -2                20\n",
              "26525     2020-08-15           CU  ...         -1                88\n",
              "28062     2020-07-05           CZ  ...         -1               351\n",
              "28063     2020-07-06           CZ  ...         -3               348\n",
              "34026     2020-12-30           ER  ...         -1                 1\n",
              "34111     2021-03-25           ER  ...        -27                 8\n",
              "34956     2020-08-30           SZ  ...         -2                91\n",
              "35163     2021-03-25           SZ  ...         -2               666\n",
              "38857     2021-04-06           GF  ...         -3                93\n",
              "44369     2020-07-06           GP  ...         -2                14\n",
              "45359     2020-05-05           GT  ...         -2                17\n",
              "46471     2020-07-04           GN  ...        -13                33\n",
              "49293     2021-01-12           HN  ...         -2              3273\n",
              "52874     2020-10-03           IE  ...         -5              1801\n",
              "54352     2020-06-25           IT  ...        -31             34644\n",
              "61923     2021-01-18           LS  ...         -4                93\n",
              "67245     2021-03-21           ML  ...         -3               360\n",
              "70123     2020-06-16           YT  ...         -1                28\n",
              "75468     2020-09-09          NaN  ...         -2                89\n",
              "86866     2020-03-19           PH  ...         -2                17\n",
              "89017     2020-05-05           PR  ...        -43                54\n",
              "91233     2020-08-25           RE  ...         -4                 2\n",
              "98490     2020-05-10           ST  ...         -1                 4\n",
              "102667    2020-04-09           SX  ...         -2                 6\n",
              "105867    2020-05-23           SS  ...         -1                 5\n",
              "105977    2020-09-10           SS  ...         -1                48\n",
              "106064    2020-12-06           SS  ...         -1                61\n",
              "106219    2021-05-10           SS  ...         -1               115\n",
              "112484    2021-03-24           TG  ...         -9                95\n",
              "117218    2021-03-24           UG  ...         -5               334\n",
              "117258    2021-05-03           UG  ...         -1               342\n",
              "124314    2020-06-29           ZW  ...         -1                 6\n",
              "\n",
              "[37 rows x 8 columns]"
            ]
          },
          "metadata": {
            "tags": []
          },
          "execution_count": 35
        }
      ]
    },
    {
      "cell_type": "code",
      "metadata": {
        "colab": {
          "base_uri": "https://localhost:8080/",
          "height": 419
        },
        "id": "RI7es8xFQXXK",
        "outputId": "181db04c-7496-4ae7-b458-55425c4f9d6a"
      },
      "source": [
        "# Creating a new column to show the Percentage of new cases\n",
        "df['pct_cases'] = (df['New_cases']/df['Cumulative_cases'])*100\n",
        "df"
      ],
      "execution_count": 37,
      "outputs": [
        {
          "output_type": "execute_result",
          "data": {
            "text/html": [
              "<div>\n",
              "<style scoped>\n",
              "    .dataframe tbody tr th:only-of-type {\n",
              "        vertical-align: middle;\n",
              "    }\n",
              "\n",
              "    .dataframe tbody tr th {\n",
              "        vertical-align: top;\n",
              "    }\n",
              "\n",
              "    .dataframe thead th {\n",
              "        text-align: right;\n",
              "    }\n",
              "</style>\n",
              "<table border=\"1\" class=\"dataframe\">\n",
              "  <thead>\n",
              "    <tr style=\"text-align: right;\">\n",
              "      <th></th>\n",
              "      <th>Date_reported</th>\n",
              "      <th>Country_code</th>\n",
              "      <th>Country</th>\n",
              "      <th>WHO_region</th>\n",
              "      <th>New_cases</th>\n",
              "      <th>Cumulative_cases</th>\n",
              "      <th>New_deaths</th>\n",
              "      <th>Cumulative_deaths</th>\n",
              "      <th>pct_cases</th>\n",
              "    </tr>\n",
              "  </thead>\n",
              "  <tbody>\n",
              "    <tr>\n",
              "      <th>0</th>\n",
              "      <td>2020-01-03</td>\n",
              "      <td>AF</td>\n",
              "      <td>Afghanistan</td>\n",
              "      <td>EMRO</td>\n",
              "      <td>0</td>\n",
              "      <td>0</td>\n",
              "      <td>0</td>\n",
              "      <td>0</td>\n",
              "      <td>NaN</td>\n",
              "    </tr>\n",
              "    <tr>\n",
              "      <th>1</th>\n",
              "      <td>2020-01-04</td>\n",
              "      <td>AF</td>\n",
              "      <td>Afghanistan</td>\n",
              "      <td>EMRO</td>\n",
              "      <td>0</td>\n",
              "      <td>0</td>\n",
              "      <td>0</td>\n",
              "      <td>0</td>\n",
              "      <td>NaN</td>\n",
              "    </tr>\n",
              "    <tr>\n",
              "      <th>2</th>\n",
              "      <td>2020-01-05</td>\n",
              "      <td>AF</td>\n",
              "      <td>Afghanistan</td>\n",
              "      <td>EMRO</td>\n",
              "      <td>0</td>\n",
              "      <td>0</td>\n",
              "      <td>0</td>\n",
              "      <td>0</td>\n",
              "      <td>NaN</td>\n",
              "    </tr>\n",
              "    <tr>\n",
              "      <th>3</th>\n",
              "      <td>2020-01-06</td>\n",
              "      <td>AF</td>\n",
              "      <td>Afghanistan</td>\n",
              "      <td>EMRO</td>\n",
              "      <td>0</td>\n",
              "      <td>0</td>\n",
              "      <td>0</td>\n",
              "      <td>0</td>\n",
              "      <td>NaN</td>\n",
              "    </tr>\n",
              "    <tr>\n",
              "      <th>4</th>\n",
              "      <td>2020-01-07</td>\n",
              "      <td>AF</td>\n",
              "      <td>Afghanistan</td>\n",
              "      <td>EMRO</td>\n",
              "      <td>0</td>\n",
              "      <td>0</td>\n",
              "      <td>0</td>\n",
              "      <td>0</td>\n",
              "      <td>NaN</td>\n",
              "    </tr>\n",
              "    <tr>\n",
              "      <th>...</th>\n",
              "      <td>...</td>\n",
              "      <td>...</td>\n",
              "      <td>...</td>\n",
              "      <td>...</td>\n",
              "      <td>...</td>\n",
              "      <td>...</td>\n",
              "      <td>...</td>\n",
              "      <td>...</td>\n",
              "      <td>...</td>\n",
              "    </tr>\n",
              "    <tr>\n",
              "      <th>124657</th>\n",
              "      <td>2021-06-07</td>\n",
              "      <td>ZW</td>\n",
              "      <td>Zimbabwe</td>\n",
              "      <td>AFRO</td>\n",
              "      <td>21</td>\n",
              "      <td>39189</td>\n",
              "      <td>1</td>\n",
              "      <td>1606</td>\n",
              "      <td>0.053586</td>\n",
              "    </tr>\n",
              "    <tr>\n",
              "      <th>124658</th>\n",
              "      <td>2021-06-08</td>\n",
              "      <td>ZW</td>\n",
              "      <td>Zimbabwe</td>\n",
              "      <td>AFRO</td>\n",
              "      <td>49</td>\n",
              "      <td>39238</td>\n",
              "      <td>5</td>\n",
              "      <td>1611</td>\n",
              "      <td>0.124879</td>\n",
              "    </tr>\n",
              "    <tr>\n",
              "      <th>124659</th>\n",
              "      <td>2021-06-09</td>\n",
              "      <td>ZW</td>\n",
              "      <td>Zimbabwe</td>\n",
              "      <td>AFRO</td>\n",
              "      <td>83</td>\n",
              "      <td>39321</td>\n",
              "      <td>6</td>\n",
              "      <td>1617</td>\n",
              "      <td>0.211083</td>\n",
              "    </tr>\n",
              "    <tr>\n",
              "      <th>124660</th>\n",
              "      <td>2021-06-10</td>\n",
              "      <td>ZW</td>\n",
              "      <td>Zimbabwe</td>\n",
              "      <td>AFRO</td>\n",
              "      <td>111</td>\n",
              "      <td>39432</td>\n",
              "      <td>5</td>\n",
              "      <td>1622</td>\n",
              "      <td>0.281497</td>\n",
              "    </tr>\n",
              "    <tr>\n",
              "      <th>124661</th>\n",
              "      <td>2021-06-11</td>\n",
              "      <td>ZW</td>\n",
              "      <td>Zimbabwe</td>\n",
              "      <td>AFRO</td>\n",
              "      <td>64</td>\n",
              "      <td>39496</td>\n",
              "      <td>4</td>\n",
              "      <td>1626</td>\n",
              "      <td>0.162042</td>\n",
              "    </tr>\n",
              "  </tbody>\n",
              "</table>\n",
              "<p>124662 rows × 9 columns</p>\n",
              "</div>"
            ],
            "text/plain": [
              "       Date_reported Country_code  ... Cumulative_deaths pct_cases\n",
              "0         2020-01-03           AF  ...                 0       NaN\n",
              "1         2020-01-04           AF  ...                 0       NaN\n",
              "2         2020-01-05           AF  ...                 0       NaN\n",
              "3         2020-01-06           AF  ...                 0       NaN\n",
              "4         2020-01-07           AF  ...                 0       NaN\n",
              "...              ...          ...  ...               ...       ...\n",
              "124657    2021-06-07           ZW  ...              1606  0.053586\n",
              "124658    2021-06-08           ZW  ...              1611  0.124879\n",
              "124659    2021-06-09           ZW  ...              1617  0.211083\n",
              "124660    2021-06-10           ZW  ...              1622  0.281497\n",
              "124661    2021-06-11           ZW  ...              1626  0.162042\n",
              "\n",
              "[124662 rows x 9 columns]"
            ]
          },
          "metadata": {
            "tags": []
          },
          "execution_count": 37
        }
      ]
    },
    {
      "cell_type": "code",
      "metadata": {
        "id": "k8hdjnhaQrl3"
      },
      "source": [
        ""
      ],
      "execution_count": null,
      "outputs": []
    }
  ]
}